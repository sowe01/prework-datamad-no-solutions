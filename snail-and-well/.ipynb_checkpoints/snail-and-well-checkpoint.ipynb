{
 "cells": [
  {
   "cell_type": "markdown",
   "metadata": {},
   "source": [
    "# Snail and well\n",
    "\n",
    "A snail falls at the bottom of a 125 cm well. Each day the snail rises 30 cm. But at night, while sleeping, slides 20 cm because the walls are wet. How many days does it take to escape from the well?\n",
    "\n",
    "TIP: http://puzzles.nigelcoldwell.co.uk/sixtytwo.htm"
   ]
  },
  {
   "cell_type": "markdown",
   "metadata": {},
   "source": [
    "## Solución"
   ]
  },
  {
   "cell_type": "code",
   "execution_count": 14,
   "metadata": {},
   "outputs": [
    {
     "name": "stdout",
     "output_type": "stream",
     "text": [
      "el caracol tardo  11  dias en escapar del muro\n"
     ]
    }
   ],
   "source": [
    "# Assign problem data to variables with representative names\n",
    "# well height, daily advance, night retreat, accumulated distance\n",
    "\n",
    "\n",
    "# Assign 0 to the variable that represents the solution\n",
    "\n",
    "\n",
    "# Write the code that solves the problem\n",
    "\n",
    "\n",
    "# Print the result with print('Days =', days)\n",
    "well_height= 125\n",
    "daily_distance=30\n",
    "nightly_distance=20\n",
    "snail_position=0\n",
    "days=0\n",
    "\n",
    "while snail_position < well_height:\n",
    "    \n",
    "    snail_position += daily_distance\n",
    "    days += 1\n",
    "    \n",
    "    if snail_position < well_height:\n",
    "        snail_position -= nightly_distance\n",
    "        \n",
    "        \n",
    "print (\"el caracol tardo \", days, \" dias en escapar del muro\")\n"
   ]
  },
  {
   "cell_type": "markdown",
   "metadata": {},
   "source": [
    "**Expected output**: \n",
    "```\n",
    "Days = 11\n",
    "```"
   ]
  },
  {
   "cell_type": "markdown",
   "metadata": {},
   "source": [
    "## Goals\n",
    "\n",
    "1. Treatment of variables\n",
    "2. Use of loop **while**\n",
    "3. Use of conditional **if-else**\n",
    "4. Print in console"
   ]
  },
  {
   "cell_type": "markdown",
   "metadata": {},
   "source": [
    "## Bonus\n",
    "The distance traveled by the snail is now defined by a list.\n",
    "```\n",
    "advance_cm = [30, 21, 33, 77, 44, 45, 23, 45, 12, 34, 55]\n",
    "```\n",
    "How long does it take to raise the well?\n",
    "\n",
    "What is its maximum displacement in one day? And its minimum?\n",
    "\n",
    "What is its average speed during the day?\n",
    "\n",
    "What is the standard deviation of its displacement during the day?"
   ]
  },
  {
   "cell_type": "code",
   "execution_count": 16,
   "metadata": {},
   "outputs": [
    {
     "name": "stdout",
     "output_type": "stream",
     "text": [
      "el caracol tardo  6  dias en escapar del muro\n"
     ]
    }
   ],
   "source": [
    "# Assign problem data to variables with representative names\n",
    "# well height, daily advance, night retreat, accumulated distance\n",
    "\n",
    "\n",
    "# Assign 0 to the variable that represents the solution\n",
    "\n",
    "\n",
    "# Write the code that solves the problem\n",
    "\n",
    "\n",
    "\n",
    "# Print the result with print('Days =', days)\n",
    "advance_cm = [30, 21, 33, 77, 44, 45, 23, 45, 12, 34, 55]\n",
    "well_height= 125\n",
    "nightly_distance=20\n",
    "snail_position=0\n",
    "days=0\n",
    "\n",
    "while snail_position < well_height:\n",
    "    snail_position += advance_cm[days]\n",
    "    snail_position -= nightly_distance\n",
    "    days +=1\n",
    "\n",
    "    \n",
    "    \n",
    "print (\"el caracol tardo \", days, \" dias en escapar del muro\")"
   ]
  },
  {
   "cell_type": "markdown",
   "metadata": {},
   "source": [
    "**Expected output**: \n",
    "```\n",
    "Days = 6\n",
    "```"
   ]
  },
  {
   "cell_type": "code",
   "execution_count": 4,
   "metadata": {},
   "outputs": [
    {
     "name": "stdout",
     "output_type": "stream",
     "text": [
      "el dia que menos recorre es:  12\n",
      "el dia que mas recorre es:  77\n"
     ]
    }
   ],
   "source": [
    "# What is its maximum displacement in a day? And its minimum?\n",
    "print(\"el dia que menos recorre es: \",min(advance_cm))\n",
    "print (\"el dia que mas recorre es: \",max(advance_cm))"
   ]
  },
  {
   "cell_type": "markdown",
   "metadata": {},
   "source": [
    "**Expected output**: \n",
    "```\n",
    "77 12\n",
    "```"
   ]
  },
  {
   "cell_type": "code",
   "execution_count": 7,
   "metadata": {},
   "outputs": [
    {
     "name": "stdout",
     "output_type": "stream",
     "text": [
      "la media que recorre es:  38.09090909090909\n"
     ]
    }
   ],
   "source": [
    "# What is its average progress?\n",
    "media= sum(advance_cm)/len(advance_cm)\n",
    "print (\"la media que recorre es: \",media)"
   ]
  },
  {
   "cell_type": "markdown",
   "metadata": {},
   "source": [
    "**Expected output**: \n",
    "```\n",
    "38.09090909090909\n",
    "```"
   ]
  },
  {
   "cell_type": "code",
   "execution_count": 8,
   "metadata": {},
   "outputs": [
    {
     "name": "stdout",
     "output_type": "stream",
     "text": [
      "standard deviation 17.996969441850734\n"
     ]
    }
   ],
   "source": [
    "# What is the standard deviation of your displacement during the day?\n",
    "from statistics import stdev\n",
    "standard_deviation = stdev(advance_cm)\n",
    "print(\"standard deviation\", standard_deviation)"
   ]
  },
  {
   "cell_type": "markdown",
   "metadata": {},
   "source": [
    "**Expected output**: \n",
    "```\n",
    "17.159437082600803\n",
    "```"
   ]
  }
 ],
 "metadata": {
  "kernelspec": {
   "display_name": "Python 3",
   "language": "python",
   "name": "python3"
  },
  "language_info": {
   "codemirror_mode": {
    "name": "ipython",
    "version": 3
   },
   "file_extension": ".py",
   "mimetype": "text/x-python",
   "name": "python",
   "nbconvert_exporter": "python",
   "pygments_lexer": "ipython3",
   "version": "3.6.9"
  }
 },
 "nbformat": 4,
 "nbformat_minor": 2
}
